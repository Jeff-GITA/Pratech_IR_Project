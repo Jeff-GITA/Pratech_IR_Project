{
 "cells": [
  {
   "cell_type": "markdown",
   "metadata": {},
   "source": [
    "# Merge annotation documents"
   ]
  },
  {
   "cell_type": "markdown",
   "metadata": {},
   "source": [
    "## Libraries"
   ]
  },
  {
   "cell_type": "code",
   "execution_count": 2,
   "metadata": {},
   "outputs": [],
   "source": [
    "import os\n",
    "import pandas as pd\n",
    "from tqdm import tqdm"
   ]
  },
  {
   "cell_type": "markdown",
   "metadata": {},
   "source": [
    "## Load all files"
   ]
  },
  {
   "cell_type": "code",
   "execution_count": 25,
   "metadata": {},
   "outputs": [
    {
     "name": "stdout",
     "output_type": "stream",
     "text": [
      "# of folders: 500\n"
     ]
    },
    {
     "name": "stderr",
     "output_type": "stream",
     "text": [
      "100%|██████████| 500/500 [00:00<00:00, 2018.18it/s]"
     ]
    },
    {
     "name": "stdout",
     "output_type": "stream",
     "text": [
      "# of read files: 500 (2137, 7)\n"
     ]
    },
    {
     "name": "stderr",
     "output_type": "stream",
     "text": [
      "\n"
     ]
    },
    {
     "data": {
      "text/html": [
       "<div>\n",
       "<style scoped>\n",
       "    .dataframe tbody tr th:only-of-type {\n",
       "        vertical-align: middle;\n",
       "    }\n",
       "\n",
       "    .dataframe tbody tr th {\n",
       "        vertical-align: top;\n",
       "    }\n",
       "\n",
       "    .dataframe thead th {\n",
       "        text-align: right;\n",
       "    }\n",
       "</style>\n",
       "<table border=\"1\" class=\"dataframe\">\n",
       "  <thead>\n",
       "    <tr style=\"text-align: right;\">\n",
       "      <th></th>\n",
       "      <th>image_name</th>\n",
       "      <th>docid</th>\n",
       "      <th>label</th>\n",
       "      <th>x</th>\n",
       "      <th>y</th>\n",
       "      <th>w</th>\n",
       "      <th>h</th>\n",
       "    </tr>\n",
       "  </thead>\n",
       "  <tbody>\n",
       "    <tr>\n",
       "      <th>0</th>\n",
       "      <td>gpq38e00-page02_2</td>\n",
       "      <td>gpq38e00-page02_2_obj0.png</td>\n",
       "      <td>l</td>\n",
       "      <td>852</td>\n",
       "      <td>101</td>\n",
       "      <td>973</td>\n",
       "      <td>406</td>\n",
       "    </tr>\n",
       "    <tr>\n",
       "      <th>1</th>\n",
       "      <td>gpq38e00-page02_2</td>\n",
       "      <td>gpq38e00-page02_2_obj1.png</td>\n",
       "      <td>f</td>\n",
       "      <td>805</td>\n",
       "      <td>2170</td>\n",
       "      <td>442</td>\n",
       "      <td>320</td>\n",
       "    </tr>\n",
       "    <tr>\n",
       "      <th>2</th>\n",
       "      <td>dlk65e00</td>\n",
       "      <td>dlk65e00_obj0.png</td>\n",
       "      <td>l</td>\n",
       "      <td>880</td>\n",
       "      <td>135</td>\n",
       "      <td>816</td>\n",
       "      <td>384</td>\n",
       "    </tr>\n",
       "    <tr>\n",
       "      <th>3</th>\n",
       "      <td>dlk65e00</td>\n",
       "      <td>dlk65e00_obj1.png</td>\n",
       "      <td>t</td>\n",
       "      <td>330</td>\n",
       "      <td>1345</td>\n",
       "      <td>1705</td>\n",
       "      <td>176</td>\n",
       "    </tr>\n",
       "    <tr>\n",
       "      <th>4</th>\n",
       "      <td>dlk65e00</td>\n",
       "      <td>dlk65e00_obj2.png</td>\n",
       "      <td>t</td>\n",
       "      <td>470</td>\n",
       "      <td>1239</td>\n",
       "      <td>148</td>\n",
       "      <td>81</td>\n",
       "    </tr>\n",
       "  </tbody>\n",
       "</table>\n",
       "</div>"
      ],
      "text/plain": [
       "          image_name                       docid label    x     y     w    h\n",
       "0  gpq38e00-page02_2  gpq38e00-page02_2_obj0.png     l  852   101   973  406\n",
       "1  gpq38e00-page02_2  gpq38e00-page02_2_obj1.png     f  805  2170   442  320\n",
       "2           dlk65e00           dlk65e00_obj0.png     l  880   135   816  384\n",
       "3           dlk65e00           dlk65e00_obj1.png     t  330  1345  1705  176\n",
       "4           dlk65e00           dlk65e00_obj2.png     t  470  1239   148   81"
      ]
     },
     "execution_count": 25,
     "metadata": {},
     "output_type": "execute_result"
    }
   ],
   "source": [
    "## Path of annotated data ##\n",
    "path = \"../Data/Annotated_Images/\"\n",
    "\n",
    "## List folder with annotated data ##\n",
    "folders_list = os.listdir(path)\n",
    "print(\"# of folders:\",len(folders_list))\n",
    "\n",
    "\n",
    "## Counter of read csv files ##\n",
    "c_csv = 0\n",
    "\n",
    "## DF to save all annotations ##\n",
    "annotated_df = pd.DataFrame([])\n",
    "\n",
    "## Loop ##\n",
    "for folder in tqdm(folders_list):\n",
    "    \n",
    "    ## create name of annotated information ##\n",
    "    annotation_name = f\"annotations_{folder}.csv\"\n",
    "    \n",
    "    ## path of each folder ##\n",
    "    annotation_file = os.path.join(path, folder, annotation_name)   \n",
    "    \n",
    "    ## Load annotations ##\n",
    "    annotation_df = pd.read_csv(annotation_file)\n",
    "    ## concatenate annotations ##\n",
    "    annotated_df = pd.concat([annotated_df, annotation_df], axis=0)\n",
    "    ## Increase loaded files ##\n",
    "    c_csv += 1\n",
    "            \n",
    "\n",
    "annotated_df.reset_index(drop=True, inplace=True)\n",
    "\n",
    "print(\"# of read files:\", c_csv, annotated_df.shape)\n",
    "annotated_df.head()\n"
   ]
  },
  {
   "cell_type": "markdown",
   "metadata": {},
   "source": [
    "## Check the assigned labels"
   ]
  },
  {
   "cell_type": "code",
   "execution_count": 26,
   "metadata": {},
   "outputs": [
    {
     "data": {
      "text/plain": [
       "label\n",
       "t            1234\n",
       "f             529\n",
       "l             232\n",
       "b             114\n",
       "g              21\n",
       "e               3\n",
       "logo            1\n",
       "signature       1\n",
       "tt              1\n",
       "ff              1\n",
       "Name: count, dtype: int64"
      ]
     },
     "execution_count": 26,
     "metadata": {},
     "output_type": "execute_result"
    }
   ],
   "source": [
    "annotated_df[\"label\"].value_counts()"
   ]
  },
  {
   "cell_type": "markdown",
   "metadata": {},
   "source": [
    "## Re-define the labels"
   ]
  },
  {
   "cell_type": "code",
   "execution_count": 27,
   "metadata": {},
   "outputs": [
    {
     "name": "stdout",
     "output_type": "stream",
     "text": [
      "2137\n",
      "2137\n"
     ]
    },
    {
     "data": {
      "text/plain": [
       "label\n",
       "other        1235\n",
       "signature     531\n",
       "logo          233\n",
       "table         114\n",
       "graphic        21\n",
       "empty           3\n",
       "Name: count, dtype: int64"
      ]
     },
     "execution_count": 27,
     "metadata": {},
     "output_type": "execute_result"
    }
   ],
   "source": [
    "\n",
    "object_database_file = \"../Data/Objects_Database/Objects_Information.csv\"\n",
    "\n",
    "\n",
    "\n",
    "map_dict = {\n",
    "    \"other\": [\"t\", \"o\", \"tt\"],\n",
    "    \"signature\": [\"f\", \"ff\", \"s\", \"signature\"],\n",
    "    \"logo\": [\"l\", \"logo\"],\n",
    "    \"table\": [\"b\"],\n",
    "    \"graphic\": [\"g\"],\n",
    "    \"empty\": [\"e\"],\n",
    "}\n",
    "\n",
    "\n",
    "label_list = []\n",
    "for i in range(len(annotated_df)):\n",
    "    label = annotated_df.loc[i, \"label\"]\n",
    "    \n",
    "    for key in map_dict.keys():\n",
    "\n",
    "        if(label in map_dict[key]):\n",
    "            label_list.append(key)\n",
    "\n",
    "print(len(annotated_df))\n",
    "print(len(label_list))\n",
    "\n",
    "\n",
    "annotated_df_2 = annotated_df.copy()\n",
    "\n",
    "annotated_df_2[\"label\"] = label_list\n",
    "\n",
    "annotated_df_2.to_csv(object_database_file, index=False)\n",
    "annotated_df_2[\"label\"].value_counts()"
   ]
  },
  {
   "cell_type": "markdown",
   "metadata": {},
   "source": [
    "# Split images to database folder"
   ]
  },
  {
   "cell_type": "markdown",
   "metadata": {},
   "source": [
    "## Libraries"
   ]
  },
  {
   "cell_type": "code",
   "execution_count": 8,
   "metadata": {},
   "outputs": [],
   "source": [
    "import os\n",
    "import shutil\n",
    "import pandas as pd"
   ]
  },
  {
   "cell_type": "markdown",
   "metadata": {},
   "source": [
    "## Functions"
   ]
  },
  {
   "cell_type": "code",
   "execution_count": 4,
   "metadata": {},
   "outputs": [],
   "source": [
    "def create_dir(path):\n",
    "    dirs = path.split(\"/\")\n",
    "    # print(dirs)\n",
    "    n_path = \"\"\n",
    "    for i in range(len(dirs)):\n",
    "        \n",
    "        n_path = os.path.join(n_path, dirs[i])\n",
    "        # print(n_path)\n",
    "        a = os.path.isdir(n_path)   \n",
    "        # print(a) \n",
    "        if(not(a)):\n",
    "            os.mkdir(n_path) "
   ]
  },
  {
   "cell_type": "markdown",
   "metadata": {},
   "source": [
    "## Copy images"
   ]
  },
  {
   "cell_type": "code",
   "execution_count": 14,
   "metadata": {},
   "outputs": [],
   "source": [
    "object_database_file = \"../Data/Objects_Database/Objects_Information.csv\"\n",
    "objects_info_df = pd.read_csv(object_database_file)\n",
    "\n",
    "\n",
    "src_path = \"../Data/Annotated_Images/\"\n",
    "db_path = \"../Data/Objects_Database\"\n",
    "\n",
    "object_interest = [\"logo\", \"other\", \"signature\"]\n",
    "\n",
    "for object in object_interest:\n",
    "\n",
    "    dst_path = os.path.join(db_path, object)\n",
    "\n",
    "    create_dir(dst_path)\n",
    "\n",
    "    objects_df = objects_info_df.loc[objects_info_df[\"label\"]==object, :]\n",
    "    samples_df = objects_df.sample(n=233, random_state=21, ignore_index=True)\n",
    "    \n",
    "\n",
    "    for i in range(samples_df.shape[0]):\n",
    "        \n",
    "        src_file = os.path.join(src_path, samples_df.loc[i, \"image_name\"], samples_df.loc[i, \"docid\"])\n",
    "        dst_file = os.path.join(dst_path, samples_df.loc[i, \"docid\"]) \n",
    "\n",
    "        shutil.copy2(src_file, dst_file)\n",
    "\n"
   ]
  },
  {
   "cell_type": "markdown",
   "metadata": {},
   "source": [
    "## Redefine file of selected objects"
   ]
  },
  {
   "cell_type": "markdown",
   "metadata": {},
   "source": [
    "## Libraries"
   ]
  },
  {
   "cell_type": "code",
   "execution_count": 1,
   "metadata": {},
   "outputs": [],
   "source": [
    "import os\n",
    "import pandas as pd"
   ]
  },
  {
   "cell_type": "markdown",
   "metadata": {},
   "source": [
    "## Redefine file"
   ]
  },
  {
   "cell_type": "code",
   "execution_count": 3,
   "metadata": {},
   "outputs": [
    {
     "name": "stdout",
     "output_type": "stream",
     "text": [
      "(639, 7)\n"
     ]
    }
   ],
   "source": [
    "object_database_file = \"../Data/Objects_Database/Objects_Information.csv\"\n",
    "selected_object_db_file = \"../Data/Objects_Database/Selected_Objects_Information.csv\"\n",
    "\n",
    "objects_info_df = pd.read_csv(object_database_file)\n",
    "objects_info_df.index = list(objects_info_df[\"docid\"])\n",
    "\n",
    "db_path = \"../Data/Objects_Database\"\n",
    "\n",
    "object_interest = [\"logo\", \"other\", \"signature\"]\n",
    "\n",
    "object_list = []\n",
    "\n",
    "for object in object_interest:\n",
    "    dst_path = os.path.join(db_path, object)\n",
    "\n",
    "    obj_list = os.listdir(dst_path)\n",
    "    object_list.extend(obj_list)\n",
    "\n",
    "\n",
    "\n",
    "selected_objects_df = objects_info_df.loc[object_list, :]\n",
    "print(selected_objects_df.shape)\n",
    "\n",
    "\n",
    "selected_objects_df.to_csv(selected_object_db_file, index=False)"
   ]
  }
 ],
 "metadata": {
  "kernelspec": {
   "display_name": "documents",
   "language": "python",
   "name": "python3"
  },
  "language_info": {
   "codemirror_mode": {
    "name": "ipython",
    "version": 3
   },
   "file_extension": ".py",
   "mimetype": "text/x-python",
   "name": "python",
   "nbconvert_exporter": "python",
   "pygments_lexer": "ipython3",
   "version": "3.9.19"
  }
 },
 "nbformat": 4,
 "nbformat_minor": 2
}
