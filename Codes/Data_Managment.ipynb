{
 "cells": [
  {
   "cell_type": "markdown",
   "metadata": {},
   "source": [
    "# Select unlabeled documents"
   ]
  },
  {
   "cell_type": "code",
   "execution_count": 6,
   "metadata": {},
   "outputs": [],
   "source": [
    "import os\n",
    "import shutil"
   ]
  },
  {
   "cell_type": "code",
   "execution_count": 7,
   "metadata": {},
   "outputs": [
    {
     "name": "stdout",
     "output_type": "stream",
     "text": [
      "500\n",
      "1292\n",
      "792\n"
     ]
    }
   ],
   "source": [
    "db_path = \"../../Datasets/Tobacco 800 Dataset/tobacco800\"\n",
    "annotated_images = \"../../Old_Data/Annotated_Images\"\n",
    "ann_img_list = os.listdir(annotated_images)\n",
    "images_list = os.listdir(db_path)\n",
    "print(len(ann_img_list))\n",
    "print(len(images_list))\n",
    "\n",
    "## Remove annotated images ##\n",
    "for img_f in ann_img_list:\n",
    "    file = img_f+\".png\"\n",
    "    images_list.remove(file)\n",
    "\n",
    "print(len(images_list))\n",
    "\n",
    "\n",
    "src_path = db_path\n",
    "dst_path = \"../../Data/Images_2_Annotate/\"\n",
    "\n",
    "for file in images_list:\n",
    "    src_file = os.path.join(src_path, file)\n",
    "    dst_file = os.path.join(dst_path, file)\n",
    "    shutil.copy2(src_file, dst_file)\n",
    "\n"
   ]
  },
  {
   "cell_type": "code",
   "execution_count": null,
   "metadata": {},
   "outputs": [],
   "source": []
  }
 ],
 "metadata": {
  "kernelspec": {
   "display_name": "documents",
   "language": "python",
   "name": "python3"
  },
  "language_info": {
   "codemirror_mode": {
    "name": "ipython",
    "version": 3
   },
   "file_extension": ".py",
   "mimetype": "text/x-python",
   "name": "python",
   "nbconvert_exporter": "python",
   "pygments_lexer": "ipython3",
   "version": "3.9.19"
  }
 },
 "nbformat": 4,
 "nbformat_minor": 2
}
