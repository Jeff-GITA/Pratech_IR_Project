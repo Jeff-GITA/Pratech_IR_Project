{
 "cells": [
  {
   "cell_type": "markdown",
   "metadata": {},
   "source": [
    "# pdf2image"
   ]
  },
  {
   "cell_type": "code",
   "execution_count": 1,
   "metadata": {},
   "outputs": [
    {
     "name": "stdout",
     "output_type": "stream",
     "text": [
      "doc_1.png\n",
      "doc_2.png\n",
      "doc_3.png\n",
      "doc_4.png\n",
      "doc_5.png\n",
      "doc_6.png\n",
      "doc_7.png\n",
      "doc_8.png\n"
     ]
    }
   ],
   "source": [
    "from pdf2image import convert_from_path\n",
    "from pathlib import Path\n",
    "import os\n",
    "\n",
    "###############\n",
    "#### Input ####\n",
    "###############\n",
    "path = \"../../Data/Example_Docs/\"\n",
    "pdf_document = os.path.join(path, \"pdf/doc.pdf\")\n",
    "# pdf_document = \"/tmp/gradio/deb2b0a352816da96841f11b524b4dc9ebe1468c/doc.pdf\"\n",
    "dst_path = os.path.join(path, \"img/\")\n",
    "\n",
    "##############\n",
    "#### Code ####\n",
    "##############\n",
    "\n",
    "## get pages ##\n",
    "pages = convert_from_path(pdf_path=pdf_document)#, poppler_path=poppler_path)\n",
    "\n",
    "# doc_name = pdf_document.split(\"/\")[-1].split(\".\")[0]\n",
    "doc_path, file_name = os.path.split(pdf_document)\n",
    "doc_name = file_name.split(\".\")[0]\n",
    "\n",
    "dst_folder = os.path.join(dst_path, doc_name)\n",
    "# create_dir(dst_folder)\n",
    "path_obj = Path(dst_folder)\n",
    "path_obj.mkdir(parents=True)\n",
    "\n",
    "p=1\n",
    "for page in pages:\n",
    "    img_name = f\"{doc_name}_{p}.png\"\n",
    "    print(img_name)\n",
    "    p += 1\n",
    "    page.save(os.path.join(dst_folder, img_name), \"PNG\")"
   ]
  },
  {
   "cell_type": "code",
   "execution_count": 3,
   "metadata": {},
   "outputs": [
    {
     "name": "stdout",
     "output_type": "stream",
     "text": [
      "Folder 'Docs/img/' successfully zipped into 'Docs/zip/folder.zip'\n"
     ]
    }
   ],
   "source": [
    "\n",
    "\n",
    "\n",
    "def zip_folder(folder_path, output_path):\n",
    "    import zipfile\n",
    "    import os\n",
    "    try:\n",
    "        # Create a ZipFile object\n",
    "        with zipfile.ZipFile(output_path, 'w', zipfile.ZIP_DEFLATED) as zipf:\n",
    "            # Walk the directory tree\n",
    "            for root, dirs, files in os.walk(folder_path):\n",
    "                for file in files:\n",
    "                    # Create the complete filepath of each file in the folder\n",
    "                    file_path = os.path.join(root, file)\n",
    "                    # Add file to zip archive\n",
    "                    zipf.write(file_path, os.path.relpath(file_path, folder_path))\n",
    "        print(f\"Folder '{folder_path}' successfully zipped into '{output_path}'\")\n",
    "    except Exception as e:\n",
    "        print(f\"An error occurred: {e}\")\n",
    "\n",
    "# Example usage:\n",
    "folder_to_zip = 'Docs/img/'\n",
    "output_zip_path = 'Docs/zip/'\n",
    "create_dir(output_zip_path)\n",
    "output_zip_file = os.path.join(output_zip_path, \"folder.zip\")\n",
    "zip_folder(folder_to_zip, output_zip_file)\n"
   ]
  },
  {
   "cell_type": "code",
   "execution_count": null,
   "metadata": {},
   "outputs": [],
   "source": [
    "def create_dir(path):\n",
    "    import os\n",
    "    dirs = path.split(\"/\")\n",
    "    print(dirs)\n",
    "    n_path = \"\"\n",
    "    for i in range(len(dirs)):\n",
    "        n_path = os.path.join(n_path, dirs[i])\n",
    "        # print(n_path)  \n",
    "        if(not(os.path.isdir(n_path)) and (n_path != \"\")):\n",
    "            os.mkdir(n_path)"
   ]
  },
  {
   "cell_type": "code",
   "execution_count": 5,
   "metadata": {},
   "outputs": [],
   "source": [
    "from pathlib import Path\n",
    "path = \"/tmp/gradio/deb2b0a352816da96841f11b524b4dc9ebe1468c/pdf2img_folder/doc\"\n",
    "p = Path(path)\n",
    "p.mkdir(parents=True)\n"
   ]
  },
  {
   "cell_type": "markdown",
   "metadata": {},
   "source": [
    "# Aspose"
   ]
  },
  {
   "cell_type": "code",
   "execution_count": 19,
   "metadata": {},
   "outputs": [],
   "source": [
    "# import aspose.words as aw\n",
    "# pdf_document = \"Docs/pdf/doc.pdf\"\n",
    "# dst_path = \"Docs/img_2/\"\n",
    "\n",
    "# create_dir(dst_path)\n",
    "\n",
    "\n",
    "# doc = aw.Document(pdf_document)\n",
    "# for page in range(0, doc.page_count):\n",
    "#     extractedPage = doc.extract_pages(page, 1)\n",
    "#     extractedPage.save(f\"{dst_path}/Output_{page + 1}.png\")"
   ]
  },
  {
   "cell_type": "markdown",
   "metadata": {},
   "source": [
    "# Converting using gradio"
   ]
  },
  {
   "cell_type": "markdown",
   "metadata": {},
   "source": [
    "## Functions"
   ]
  },
  {
   "cell_type": "code",
   "execution_count": 6,
   "metadata": {},
   "outputs": [],
   "source": [
    "def pdf2img(file_path_list):\n",
    "    from pdf2image import convert_from_path\n",
    "    from pathlib import Path\n",
    "    \n",
    "    import os\n",
    "    for pdf_document in file_path_list:\n",
    "        ###############\n",
    "        #### Input ####\n",
    "        ###############\n",
    "        # pdf_document = \"Docs/pdf/doc.pdf\"\n",
    "        # dst_path = \"Docs/img/\"\n",
    "\n",
    "        ##############\n",
    "        #### Code ####\n",
    "        ##############\n",
    "\n",
    "        ## get pages ##\n",
    "        \n",
    "        doc_path, file_name = os.path.split(pdf_document)\n",
    "        dst_path = os.path.join(doc_path, \"pdf2img_folder\")\n",
    "        doc_name = file_name.split(\".\")[0]\n",
    "        dst_folder = os.path.join(dst_path, doc_name)\n",
    "        # print(\"pdf_document: \", pdf_document)\n",
    "        # print(\"dst_folder: \", dst_folder)\n",
    "        # print(\"doc_name: \", doc_name)\n",
    "        \n",
    "        pages = convert_from_path(pdf_path=pdf_document)#, poppler_path=poppler_path)\n",
    "        \n",
    "\n",
    "        #### actions ####\n",
    "        # print(\"dst_folder:\", dst_folder)\n",
    "        path_obj = Path(dst_folder)\n",
    "        path_obj.mkdir(parents=True)\n",
    "        p=1\n",
    "        for page in pages:\n",
    "            img_name = f\"{doc_name}_{p}.png\"\n",
    "            # print(\"img_name: \",img_name)\n",
    "            # print(\"folder_name:\",os.path.join(dst_folder, img_name))\n",
    "            p += 1\n",
    "            page.save(os.path.join(dst_folder, img_name), \"PNG\")\n",
    "\n",
    "    zip_file = os.path.join(doc_path, \"output.zip\")\n",
    "    print(zip_file)\n",
    "    zip_folder(dst_path, zip_file)\n",
    "    \n",
    "    return zip_file\n",
    "\n",
    "\n",
    "def zip_folder(folder_path, output_path):\n",
    "    import zipfile\n",
    "    import os\n",
    "    try:\n",
    "        # Create a ZipFile object\n",
    "        with zipfile.ZipFile(output_path, 'w', zipfile.ZIP_DEFLATED) as zipf:\n",
    "            # Walk the directory tree\n",
    "            for root, dirs, files in os.walk(folder_path):\n",
    "                for file in files:\n",
    "                    # Create the complete filepath of each file in the folder\n",
    "                    file_path = os.path.join(root, file)\n",
    "                    # Add file to zip archive\n",
    "                    zipf.write(file_path, os.path.relpath(file_path, folder_path))\n",
    "        print(f\"Folder '{folder_path}' successfully zipped into '{output_path}'\")\n",
    "    except Exception as e:\n",
    "        print(f\"An error occurred: {e}\")\n",
    "\n",
    "def read_files(files):\n",
    "    return \" - \".join(files)\n",
    "\n"
   ]
  },
  {
   "cell_type": "markdown",
   "metadata": {},
   "source": [
    "## Gradio Interface"
   ]
  },
  {
   "cell_type": "code",
   "execution_count": 8,
   "metadata": {},
   "outputs": [
    {
     "name": "stdout",
     "output_type": "stream",
     "text": [
      "Running on local URL:  http://127.0.0.1:7862\n",
      "\n",
      "To create a public link, set `share=True` in `launch()`.\n"
     ]
    },
    {
     "data": {
      "text/html": [
       "<div><iframe src=\"http://127.0.0.1:7862/\" width=\"100%\" height=\"500\" allow=\"autoplay; camera; microphone; clipboard-read; clipboard-write;\" frameborder=\"0\" allowfullscreen></iframe></div>"
      ],
      "text/plain": [
       "<IPython.core.display.HTML object>"
      ]
     },
     "metadata": {},
     "output_type": "display_data"
    },
    {
     "data": {
      "text/plain": []
     },
     "execution_count": 8,
     "metadata": {},
     "output_type": "execute_result"
    },
    {
     "name": "stdout",
     "output_type": "stream",
     "text": [
      "dst_folder: /tmp/gradio/deb2b0a352816da96841f11b524b4dc9ebe1468c/pdf2img_folder/doc_copia\n",
      "img_name:  doc_copia_1.png\n",
      "folder_name: /tmp/gradio/deb2b0a352816da96841f11b524b4dc9ebe1468c/pdf2img_folder/doc_copia/doc_copia_1.png\n",
      "img_name:  doc_copia_2.png\n",
      "folder_name: /tmp/gradio/deb2b0a352816da96841f11b524b4dc9ebe1468c/pdf2img_folder/doc_copia/doc_copia_2.png\n",
      "img_name:  doc_copia_3.png\n",
      "folder_name: /tmp/gradio/deb2b0a352816da96841f11b524b4dc9ebe1468c/pdf2img_folder/doc_copia/doc_copia_3.png\n",
      "img_name:  doc_copia_4.png\n",
      "folder_name: /tmp/gradio/deb2b0a352816da96841f11b524b4dc9ebe1468c/pdf2img_folder/doc_copia/doc_copia_4.png\n",
      "img_name:  doc_copia_5.png\n",
      "folder_name: /tmp/gradio/deb2b0a352816da96841f11b524b4dc9ebe1468c/pdf2img_folder/doc_copia/doc_copia_5.png\n",
      "img_name:  doc_copia_6.png\n",
      "folder_name: /tmp/gradio/deb2b0a352816da96841f11b524b4dc9ebe1468c/pdf2img_folder/doc_copia/doc_copia_6.png\n",
      "img_name:  doc_copia_7.png\n",
      "folder_name: /tmp/gradio/deb2b0a352816da96841f11b524b4dc9ebe1468c/pdf2img_folder/doc_copia/doc_copia_7.png\n",
      "img_name:  doc_copia_8.png\n",
      "folder_name: /tmp/gradio/deb2b0a352816da96841f11b524b4dc9ebe1468c/pdf2img_folder/doc_copia/doc_copia_8.png\n",
      "dst_folder: /tmp/gradio/deb2b0a352816da96841f11b524b4dc9ebe1468c/pdf2img_folder/doc\n",
      "img_name:  doc_1.png\n",
      "folder_name: /tmp/gradio/deb2b0a352816da96841f11b524b4dc9ebe1468c/pdf2img_folder/doc/doc_1.png\n",
      "img_name:  doc_2.png\n",
      "folder_name: /tmp/gradio/deb2b0a352816da96841f11b524b4dc9ebe1468c/pdf2img_folder/doc/doc_2.png\n",
      "img_name:  doc_3.png\n",
      "folder_name: /tmp/gradio/deb2b0a352816da96841f11b524b4dc9ebe1468c/pdf2img_folder/doc/doc_3.png\n",
      "img_name:  doc_4.png\n",
      "folder_name: /tmp/gradio/deb2b0a352816da96841f11b524b4dc9ebe1468c/pdf2img_folder/doc/doc_4.png\n",
      "img_name:  doc_5.png\n",
      "folder_name: /tmp/gradio/deb2b0a352816da96841f11b524b4dc9ebe1468c/pdf2img_folder/doc/doc_5.png\n",
      "img_name:  doc_6.png\n",
      "folder_name: /tmp/gradio/deb2b0a352816da96841f11b524b4dc9ebe1468c/pdf2img_folder/doc/doc_6.png\n",
      "img_name:  doc_7.png\n",
      "folder_name: /tmp/gradio/deb2b0a352816da96841f11b524b4dc9ebe1468c/pdf2img_folder/doc/doc_7.png\n",
      "img_name:  doc_8.png\n",
      "folder_name: /tmp/gradio/deb2b0a352816da96841f11b524b4dc9ebe1468c/pdf2img_folder/doc/doc_8.png\n",
      "/tmp/gradio/deb2b0a352816da96841f11b524b4dc9ebe1468c/output.zip\n",
      "Folder '/tmp/gradio/deb2b0a352816da96841f11b524b4dc9ebe1468c/pdf2img_folder' successfully zipped into '/tmp/gradio/deb2b0a352816da96841f11b524b4dc9ebe1468c/output.zip'\n"
     ]
    }
   ],
   "source": [
    "import gradio as gr\n",
    "\n",
    "def read_file(file_path_list):\n",
    "    \n",
    "    return file_path_list\n",
    "\n",
    "iface = gr.Interface(\n",
    "    fn=pdf2img, \n",
    "    inputs=gr.File(label=\"Input_Files\", file_count=\"multiple\", type=\"filepath\"), \n",
    "    outputs=gr.File(type=\"filepath\"),\n",
    ")\n",
    "iface.launch()"
   ]
  },
  {
   "cell_type": "code",
   "execution_count": null,
   "metadata": {},
   "outputs": [],
   "source": []
  },
  {
   "cell_type": "code",
   "execution_count": null,
   "metadata": {},
   "outputs": [],
   "source": []
  }
 ],
 "metadata": {
  "kernelspec": {
   "display_name": "pdf2img",
   "language": "python",
   "name": "python3"
  },
  "language_info": {
   "codemirror_mode": {
    "name": "ipython",
    "version": 3
   },
   "file_extension": ".py",
   "mimetype": "text/x-python",
   "name": "python",
   "nbconvert_exporter": "python",
   "pygments_lexer": "ipython3",
   "version": "3.9.18"
  }
 },
 "nbformat": 4,
 "nbformat_minor": 2
}
