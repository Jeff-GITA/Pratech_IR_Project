{
 "cells": [
  {
   "cell_type": "markdown",
   "metadata": {},
   "source": [
    "# pdf2image"
   ]
  },
  {
   "cell_type": "code",
   "execution_count": 2,
   "metadata": {},
   "outputs": [],
   "source": [
    "def create_dir(path):\n",
    "    import os\n",
    "    dirs = path.split(\"/\")\n",
    "    # print(dirs)\n",
    "    n_path = \"\"\n",
    "    for i in range(len(dirs)):\n",
    "        \n",
    "        n_path = os.path.join(n_path, dirs[i])\n",
    "        # print(n_path)  \n",
    "        if(not(os.path.isdir(n_path)) and (n_path != \"\")):\n",
    "            os.mkdir(n_path)"
   ]
  },
  {
   "cell_type": "code",
   "execution_count": 3,
   "metadata": {},
   "outputs": [
    {
     "name": "stdout",
     "output_type": "stream",
     "text": [
      "doc_1.png\n",
      "doc_2.png\n",
      "doc_3.png\n",
      "doc_4.png\n",
      "doc_5.png\n",
      "doc_6.png\n",
      "doc_7.png\n",
      "doc_8.png\n"
     ]
    }
   ],
   "source": [
    "from pdf2image import convert_from_path\n",
    "import os\n",
    "\n",
    "###############\n",
    "#### Input ####\n",
    "###############\n",
    "pdf_document = \"Docs/pdf/doc.pdf\"\n",
    "dst_path = \"Docs/img/\"\n",
    "\n",
    "##############\n",
    "#### Code ####\n",
    "##############\n",
    "\n",
    "## get pages ##\n",
    "pages = convert_from_path(pdf_path=pdf_document)#, poppler_path=poppler_path)\n",
    "\n",
    "doc_name = pdf_document.split(\"/\")[-1].split(\".\")[0]\n",
    "dst_folder = os.path.join(dst_path, doc_name)\n",
    "create_dir(dst_folder)\n",
    "\n",
    "p=1\n",
    "for page in pages:\n",
    "    img_name = f\"{doc_name}_{p}.png\"\n",
    "    print(img_name)\n",
    "    p += 1\n",
    "    page.save(os.path.join(dst_folder, img_name), \"PNG\")"
   ]
  },
  {
   "cell_type": "code",
   "execution_count": 19,
   "metadata": {},
   "outputs": [
    {
     "name": "stdout",
     "output_type": "stream",
     "text": [
      "Folder 'Docs/img/' successfully zipped into 'Docs/zip/folder.zip'\n"
     ]
    }
   ],
   "source": [
    "\n",
    "\n",
    "\n",
    "def zip_folder(folder_path, output_path):\n",
    "    import zipfile\n",
    "    import os\n",
    "    try:\n",
    "        # Create a ZipFile object\n",
    "        with zipfile.ZipFile(output_path, 'w', zipfile.ZIP_DEFLATED) as zipf:\n",
    "            # Walk the directory tree\n",
    "            for root, dirs, files in os.walk(folder_path):\n",
    "                for file in files:\n",
    "                    # Create the complete filepath of each file in the folder\n",
    "                    file_path = os.path.join(root, file)\n",
    "                    # Add file to zip archive\n",
    "                    zipf.write(file_path, os.path.relpath(file_path, folder_path))\n",
    "        print(f\"Folder '{folder_path}' successfully zipped into '{output_path}'\")\n",
    "    except Exception as e:\n",
    "        print(f\"An error occurred: {e}\")\n",
    "\n",
    "# Example usage:\n",
    "folder_to_zip = 'Docs/img/'\n",
    "output_zip_path = 'Docs/zip/'\n",
    "create_dir(output_zip_path)\n",
    "output_zip_file = os.path.join(output_zip_path, \"folder.zip\")\n",
    "zip_folder(folder_to_zip, output_zip_file)\n"
   ]
  },
  {
   "cell_type": "markdown",
   "metadata": {},
   "source": [
    "# Aspose"
   ]
  },
  {
   "cell_type": "code",
   "execution_count": 19,
   "metadata": {},
   "outputs": [],
   "source": [
    "# import aspose.words as aw\n",
    "# pdf_document = \"Docs/pdf/doc.pdf\"\n",
    "# dst_path = \"Docs/img_2/\"\n",
    "\n",
    "# create_dir(dst_path)\n",
    "\n",
    "\n",
    "# doc = aw.Document(pdf_document)\n",
    "# for page in range(0, doc.page_count):\n",
    "#     extractedPage = doc.extract_pages(page, 1)\n",
    "#     extractedPage.save(f\"{dst_path}/Output_{page + 1}.png\")"
   ]
  },
  {
   "cell_type": "markdown",
   "metadata": {},
   "source": [
    "# Converting using gradio"
   ]
  },
  {
   "cell_type": "markdown",
   "metadata": {},
   "source": [
    "## Functions"
   ]
  },
  {
   "cell_type": "code",
   "execution_count": 1,
   "metadata": {},
   "outputs": [],
   "source": [
    "def pdf2img(file_path_list):\n",
    "    from pdf2image import convert_from_path\n",
    "    import os\n",
    "    for pdf_document in file_path_list:\n",
    "        ###############\n",
    "        #### Input ####\n",
    "        ###############\n",
    "        # pdf_document = \"Docs/pdf/doc.pdf\"\n",
    "        # dst_path = \"Docs/img/\"\n",
    "\n",
    "        ##############\n",
    "        #### Code ####\n",
    "        ##############\n",
    "\n",
    "        ## get pages ##\n",
    "        \n",
    "        doc_path, file_name = os.path.split(pdf_document)\n",
    "        dst_path = os.path.join(doc_path, \"pdf2img_folder\")\n",
    "        doc_name = file_name.split(\".\")[0]\n",
    "        dst_folder = os.path.join(dst_path, doc_name)\n",
    "        # print(\"pdf_document: \", pdf_document)\n",
    "        # print(\"dst_folder: \", dst_folder)\n",
    "        # print(\"doc_name: \", doc_name)\n",
    "        \n",
    "        pages = convert_from_path(pdf_path=pdf_document)#, poppler_path=poppler_path)\n",
    "        \n",
    "\n",
    "        #### actions ####\n",
    "        print(\"dst_folder:\", dst_folder)\n",
    "        create_dir(dst_folder)\n",
    "        p=1\n",
    "        for page in pages:\n",
    "            img_name = f\"{doc_name}_{p}.png\"\n",
    "            print(\"img_name: \",img_name)\n",
    "            print(\"folder_name:\",os.path.join(dst_folder, img_name))\n",
    "            p += 1\n",
    "            page.save(os.path.join(dst_folder, img_name), \"PNG\")\n",
    "\n",
    "    zip_file = os.path.join(doc_path, \"output.zip\")\n",
    "    print(zip_file)\n",
    "    zip_folder(dst_path, zip_file)\n",
    "    \n",
    "    return zip_file\n",
    "\n",
    "\n",
    "def create_dir(path):\n",
    "    import os\n",
    "    dirs = path.split(\"/\")\n",
    "    # print(dirs)\n",
    "    n_path = \"\"\n",
    "    for i in range(len(dirs)):\n",
    "        \n",
    "        n_path = os.path.join(n_path, dirs[i])\n",
    "        # print(n_path)  \n",
    "        if(not(os.path.isdir(n_path)) and (n_path != \"\")):\n",
    "            os.mkdir(n_path)\n",
    "\n",
    "def zip_folder(folder_path, output_path):\n",
    "    import zipfile\n",
    "    import os\n",
    "    try:\n",
    "        # Create a ZipFile object\n",
    "        with zipfile.ZipFile(output_path, 'w', zipfile.ZIP_DEFLATED) as zipf:\n",
    "            # Walk the directory tree\n",
    "            for root, dirs, files in os.walk(folder_path):\n",
    "                for file in files:\n",
    "                    # Create the complete filepath of each file in the folder\n",
    "                    file_path = os.path.join(root, file)\n",
    "                    # Add file to zip archive\n",
    "                    zipf.write(file_path, os.path.relpath(file_path, folder_path))\n",
    "        print(f\"Folder '{folder_path}' successfully zipped into '{output_path}'\")\n",
    "    except Exception as e:\n",
    "        print(f\"An error occurred: {e}\")\n",
    "\n",
    "def read_files(files):\n",
    "    return \" - \".join(files)\n",
    "\n"
   ]
  },
  {
   "cell_type": "markdown",
   "metadata": {},
   "source": [
    "## Gradio Interface"
   ]
  },
  {
   "cell_type": "code",
   "execution_count": 2,
   "metadata": {},
   "outputs": [
    {
     "name": "stderr",
     "output_type": "stream",
     "text": [
      "c:\\Users\\jefer\\anaconda3\\envs\\pdf\\lib\\site-packages\\tqdm\\auto.py:21: TqdmWarning: IProgress not found. Please update jupyter and ipywidgets. See https://ipywidgets.readthedocs.io/en/stable/user_install.html\n",
      "  from .autonotebook import tqdm as notebook_tqdm\n"
     ]
    },
    {
     "name": "stdout",
     "output_type": "stream",
     "text": [
      "Running on local URL:  http://127.0.0.1:7860\n",
      "\n",
      "To create a public link, set `share=True` in `launch()`.\n"
     ]
    },
    {
     "data": {
      "text/html": [
       "<div><iframe src=\"http://127.0.0.1:7860/\" width=\"100%\" height=\"500\" allow=\"autoplay; camera; microphone; clipboard-read; clipboard-write;\" frameborder=\"0\" allowfullscreen></iframe></div>"
      ],
      "text/plain": [
       "<IPython.core.display.HTML object>"
      ]
     },
     "metadata": {},
     "output_type": "display_data"
    },
    {
     "data": {
      "text/plain": []
     },
     "execution_count": 2,
     "metadata": {},
     "output_type": "execute_result"
    },
    {
     "name": "stderr",
     "output_type": "stream",
     "text": [
      "Traceback (most recent call last):\n",
      "  File \"c:\\Users\\jefer\\anaconda3\\envs\\pdf\\lib\\site-packages\\pdf2image\\pdf2image.py\", line 581, in pdfinfo_from_path\n",
      "    proc = Popen(command, env=env, stdout=PIPE, stderr=PIPE)\n",
      "  File \"c:\\Users\\jefer\\anaconda3\\envs\\pdf\\lib\\subprocess.py\", line 951, in __init__\n",
      "    self._execute_child(args, executable, preexec_fn, close_fds,\n",
      "  File \"c:\\Users\\jefer\\anaconda3\\envs\\pdf\\lib\\subprocess.py\", line 1436, in _execute_child\n",
      "    hp, ht, pid, tid = _winapi.CreateProcess(executable, args,\n",
      "FileNotFoundError: [WinError 2] El sistema no puede encontrar el archivo especificado\n",
      "\n",
      "During handling of the above exception, another exception occurred:\n",
      "\n",
      "Traceback (most recent call last):\n",
      "  File \"c:\\Users\\jefer\\anaconda3\\envs\\pdf\\lib\\site-packages\\gradio\\queueing.py\", line 536, in process_events\n",
      "    response = await route_utils.call_process_api(\n",
      "  File \"c:\\Users\\jefer\\anaconda3\\envs\\pdf\\lib\\site-packages\\gradio\\route_utils.py\", line 276, in call_process_api\n",
      "    output = await app.get_blocks().process_api(\n",
      "  File \"c:\\Users\\jefer\\anaconda3\\envs\\pdf\\lib\\site-packages\\gradio\\blocks.py\", line 1897, in process_api\n",
      "    result = await self.call_function(\n",
      "  File \"c:\\Users\\jefer\\anaconda3\\envs\\pdf\\lib\\site-packages\\gradio\\blocks.py\", line 1483, in call_function\n",
      "    prediction = await anyio.to_thread.run_sync(\n",
      "  File \"c:\\Users\\jefer\\anaconda3\\envs\\pdf\\lib\\site-packages\\anyio\\to_thread.py\", line 56, in run_sync\n",
      "    return await get_async_backend().run_sync_in_worker_thread(\n",
      "  File \"c:\\Users\\jefer\\anaconda3\\envs\\pdf\\lib\\site-packages\\anyio\\_backends\\_asyncio.py\", line 2177, in run_sync_in_worker_thread\n",
      "    return await future\n",
      "  File \"c:\\Users\\jefer\\anaconda3\\envs\\pdf\\lib\\site-packages\\anyio\\_backends\\_asyncio.py\", line 859, in run\n",
      "    result = context.run(func, *args)\n",
      "  File \"c:\\Users\\jefer\\anaconda3\\envs\\pdf\\lib\\site-packages\\gradio\\utils.py\", line 816, in wrapper\n",
      "    response = f(*args, **kwargs)\n",
      "  File \"C:\\Users\\jefer\\AppData\\Local\\Temp\\ipykernel_19224\\1292775474.py\", line 25, in pdf2img\n",
      "    pages = convert_from_path(pdf_path=pdf_document)#, poppler_path=poppler_path)\n",
      "  File \"c:\\Users\\jefer\\anaconda3\\envs\\pdf\\lib\\site-packages\\pdf2image\\pdf2image.py\", line 127, in convert_from_path\n",
      "    page_count = pdfinfo_from_path(\n",
      "  File \"c:\\Users\\jefer\\anaconda3\\envs\\pdf\\lib\\site-packages\\pdf2image\\pdf2image.py\", line 607, in pdfinfo_from_path\n",
      "    raise PDFInfoNotInstalledError(\n",
      "pdf2image.exceptions.PDFInfoNotInstalledError: Unable to get page count. Is poppler installed and in PATH?\n"
     ]
    }
   ],
   "source": [
    "import gradio as gr\n",
    "\n",
    "def read_file(file_path_list):\n",
    "    \n",
    "    return file_path_list\n",
    "\n",
    "iface = gr.Interface(\n",
    "    fn=pdf2img, \n",
    "    inputs=gr.File(label=\"Input_Files\", file_count=\"multiple\", type=\"filepath\"), \n",
    "    outputs=\"text\",\n",
    ")\n",
    "iface.launch()"
   ]
  },
  {
   "cell_type": "code",
   "execution_count": null,
   "metadata": {},
   "outputs": [],
   "source": []
  },
  {
   "cell_type": "code",
   "execution_count": null,
   "metadata": {},
   "outputs": [],
   "source": []
  }
 ],
 "metadata": {
  "kernelspec": {
   "display_name": "pdf2img",
   "language": "python",
   "name": "python3"
  },
  "language_info": {
   "codemirror_mode": {
    "name": "ipython",
    "version": 3
   },
   "file_extension": ".py",
   "mimetype": "text/x-python",
   "name": "python",
   "nbconvert_exporter": "python",
   "pygments_lexer": "ipython3",
   "version": "3.9.19"
  }
 },
 "nbformat": 4,
 "nbformat_minor": 2
}
