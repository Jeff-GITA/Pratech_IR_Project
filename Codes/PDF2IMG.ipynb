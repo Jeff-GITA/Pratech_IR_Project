{
 "cells": [
  {
   "cell_type": "markdown",
   "metadata": {},
   "source": [
    "# pdf2image"
   ]
  },
  {
   "cell_type": "code",
   "execution_count": 2,
   "metadata": {},
   "outputs": [],
   "source": [
    "def create_dir(path):\n",
    "    import os\n",
    "    dirs = path.split(\"/\")\n",
    "    # print(dirs)\n",
    "    n_path = \"\"\n",
    "    for i in range(len(dirs)):\n",
    "        \n",
    "        n_path = os.path.join(n_path, dirs[i])\n",
    "        # print(n_path)  \n",
    "        if(not(os.path.isdir(n_path)) and (n_path != \"\")):\n",
    "            os.mkdir(n_path)"
   ]
  },
  {
   "cell_type": "code",
   "execution_count": 3,
   "metadata": {},
   "outputs": [
    {
     "name": "stdout",
     "output_type": "stream",
     "text": [
      "doc_1.png\n",
      "doc_2.png\n",
      "doc_3.png\n",
      "doc_4.png\n",
      "doc_5.png\n",
      "doc_6.png\n",
      "doc_7.png\n",
      "doc_8.png\n"
     ]
    }
   ],
   "source": [
    "from pdf2image import convert_from_path\n",
    "import os\n",
    "\n",
    "###############\n",
    "#### Input ####\n",
    "###############\n",
    "pdf_document = \"Docs/pdf/doc.pdf\"\n",
    "dst_path = \"Docs/img/\"\n",
    "\n",
    "##############\n",
    "#### Code ####\n",
    "##############\n",
    "\n",
    "## get pages ##\n",
    "pages = convert_from_path(pdf_path=pdf_document)#, poppler_path=poppler_path)\n",
    "\n",
    "doc_name = pdf_document.split(\"/\")[-1].split(\".\")[0]\n",
    "dst_folder = os.path.join(dst_path, doc_name)\n",
    "create_dir(dst_folder)\n",
    "\n",
    "p=1\n",
    "for page in pages:\n",
    "    img_name = f\"{doc_name}_{p}.png\"\n",
    "    print(img_name)\n",
    "    p += 1\n",
    "    page.save(os.path.join(dst_folder, img_name), \"PNG\")"
   ]
  },
  {
   "cell_type": "code",
   "execution_count": 19,
   "metadata": {},
   "outputs": [
    {
     "name": "stdout",
     "output_type": "stream",
     "text": [
      "Folder 'Docs/img/' successfully zipped into 'Docs/zip/folder.zip'\n"
     ]
    }
   ],
   "source": [
    "\n",
    "\n",
    "\n",
    "def zip_folder(folder_path, output_path):\n",
    "    import zipfile\n",
    "    import os\n",
    "    try:\n",
    "        # Create a ZipFile object\n",
    "        with zipfile.ZipFile(output_path, 'w', zipfile.ZIP_DEFLATED) as zipf:\n",
    "            # Walk the directory tree\n",
    "            for root, dirs, files in os.walk(folder_path):\n",
    "                for file in files:\n",
    "                    # Create the complete filepath of each file in the folder\n",
    "                    file_path = os.path.join(root, file)\n",
    "                    # Add file to zip archive\n",
    "                    zipf.write(file_path, os.path.relpath(file_path, folder_path))\n",
    "        print(f\"Folder '{folder_path}' successfully zipped into '{output_path}'\")\n",
    "    except Exception as e:\n",
    "        print(f\"An error occurred: {e}\")\n",
    "\n",
    "# Example usage:\n",
    "folder_to_zip = 'Docs/img/'\n",
    "output_zip_path = 'Docs/zip/'\n",
    "create_dir(output_zip_path)\n",
    "output_zip_file = os.path.join(output_zip_path, \"folder.zip\")\n",
    "zip_folder(folder_to_zip, output_zip_file)\n"
   ]
  },
  {
   "cell_type": "markdown",
   "metadata": {},
   "source": [
    "# Aspose"
   ]
  },
  {
   "cell_type": "code",
   "execution_count": 19,
   "metadata": {},
   "outputs": [],
   "source": [
    "# import aspose.words as aw\n",
    "# pdf_document = \"Docs/pdf/doc.pdf\"\n",
    "# dst_path = \"Docs/img_2/\"\n",
    "\n",
    "# create_dir(dst_path)\n",
    "\n",
    "\n",
    "# doc = aw.Document(pdf_document)\n",
    "# for page in range(0, doc.page_count):\n",
    "#     extractedPage = doc.extract_pages(page, 1)\n",
    "#     extractedPage.save(f\"{dst_path}/Output_{page + 1}.png\")"
   ]
  },
  {
   "cell_type": "markdown",
   "metadata": {},
   "source": [
    "# Converting using gradio"
   ]
  },
  {
   "cell_type": "markdown",
   "metadata": {},
   "source": [
    "## Functions"
   ]
  },
  {
   "cell_type": "code",
   "execution_count": 1,
   "metadata": {},
   "outputs": [],
   "source": [
    "def pdf2img(file_path_list):\n",
    "    from pdf2image import convert_from_path\n",
    "    import os\n",
    "    for pdf_document in file_path_list:\n",
    "        ###############\n",
    "        #### Input ####\n",
    "        ###############\n",
    "        # pdf_document = \"Docs/pdf/doc.pdf\"\n",
    "        # dst_path = \"Docs/img/\"\n",
    "\n",
    "        ##############\n",
    "        #### Code ####\n",
    "        ##############\n",
    "\n",
    "        ## get pages ##\n",
    "        \n",
    "        doc_path, file_name = os.path.split(pdf_document)\n",
    "        dst_path = os.path.join(doc_path, \"pdf2img_folder\")\n",
    "        doc_name = file_name.split(\".\")[0]\n",
    "        dst_folder = os.path.join(dst_path, doc_name)\n",
    "        # print(\"pdf_document: \", pdf_document)\n",
    "        # print(\"dst_folder: \", dst_folder)\n",
    "        # print(\"doc_name: \", doc_name)\n",
    "        \n",
    "        pages = convert_from_path(pdf_path=pdf_document)#, poppler_path=poppler_path)\n",
    "        \n",
    "\n",
    "        #### actions ####\n",
    "        print(\"dst_folder:\", dst_folder)\n",
    "        create_dir(dst_folder)\n",
    "        p=1\n",
    "        for page in pages:\n",
    "            img_name = f\"{doc_name}_{p}.png\"\n",
    "            print(\"img_name: \",img_name)\n",
    "            print(\"folder_name:\",os.path.join(dst_folder, img_name))\n",
    "            p += 1\n",
    "            page.save(os.path.join(dst_folder, img_name), \"PNG\")\n",
    "\n",
    "    zip_file = os.path.join(doc_path, \"output.zip\")\n",
    "    print(zip_file)\n",
    "    zip_folder(dst_path, zip_file)\n",
    "    \n",
    "    return zip_file\n",
    "\n",
    "\n",
    "def create_dir(path):\n",
    "    import os\n",
    "    dirs = path.split(\"/\")\n",
    "    # print(dirs)\n",
    "    n_path = \"\"\n",
    "    for i in range(len(dirs)):\n",
    "        \n",
    "        n_path = os.path.join(n_path, dirs[i])\n",
    "        # print(n_path)  \n",
    "        if(not(os.path.isdir(n_path)) and (n_path != \"\")):\n",
    "            os.mkdir(n_path)\n",
    "\n",
    "def zip_folder(folder_path, output_path):\n",
    "    import zipfile\n",
    "    import os\n",
    "    try:\n",
    "        # Create a ZipFile object\n",
    "        with zipfile.ZipFile(output_path, 'w', zipfile.ZIP_DEFLATED) as zipf:\n",
    "            # Walk the directory tree\n",
    "            for root, dirs, files in os.walk(folder_path):\n",
    "                for file in files:\n",
    "                    # Create the complete filepath of each file in the folder\n",
    "                    file_path = os.path.join(root, file)\n",
    "                    # Add file to zip archive\n",
    "                    zipf.write(file_path, os.path.relpath(file_path, folder_path))\n",
    "        print(f\"Folder '{folder_path}' successfully zipped into '{output_path}'\")\n",
    "    except Exception as e:\n",
    "        print(f\"An error occurred: {e}\")\n",
    "\n",
    "def read_files(files):\n",
    "    return \" - \".join(files)\n",
    "\n"
   ]
  },
  {
   "cell_type": "markdown",
   "metadata": {},
   "source": [
    "## Gradio Interface"
   ]
  },
  {
   "cell_type": "code",
   "execution_count": 2,
   "metadata": {},
   "outputs": [
    {
     "name": "stderr",
     "output_type": "stream",
     "text": [
      "c:\\Users\\jefer\\anaconda3\\envs\\pdf\\lib\\site-packages\\tqdm\\auto.py:21: TqdmWarning: IProgress not found. Please update jupyter and ipywidgets. See https://ipywidgets.readthedocs.io/en/stable/user_install.html\n",
      "  from .autonotebook import tqdm as notebook_tqdm\n"
     ]
    },
    {
     "name": "stdout",
     "output_type": "stream",
     "text": [
      "Running on local URL:  http://127.0.0.1:7860\n",
      "\n",
      "To create a public link, set `share=True` in `launch()`.\n"
     ]
    },
    {
     "data": {
      "text/html": [
       "<div><iframe src=\"http://127.0.0.1:7860/\" width=\"100%\" height=\"500\" allow=\"autoplay; camera; microphone; clipboard-read; clipboard-write;\" frameborder=\"0\" allowfullscreen></iframe></div>"
      ],
      "text/plain": [
       "<IPython.core.display.HTML object>"
      ]
     },
     "metadata": {},
     "output_type": "display_data"
    },
    {
     "data": {
      "text/plain": 